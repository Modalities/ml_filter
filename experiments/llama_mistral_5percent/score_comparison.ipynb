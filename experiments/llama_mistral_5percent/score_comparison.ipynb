{
 "cells": [
  {
   "cell_type": "markdown",
   "metadata": {},
   "source": [
    "# Parsing"
   ]
  },
  {
   "cell_type": "code",
   "execution_count": 1,
   "metadata": {},
   "outputs": [
    {
     "name": "stdout",
     "output_type": "stream",
     "text": [
      "Errornous score for doc id=19681: score=50\n"
     ]
    }
   ],
   "source": [
    "import json\n",
    "import re\n",
    "from typing import Dict, Iterable, List, Tuple\n",
    "import os\n",
    "\n",
    "mixtral_filename = os.path.join(\"data\", \"mixtral_results_5_percent.json\")\n",
    "llama_filename = os.path.join(\"data\", \"llama_top_5_percent.json\")\n",
    "\n",
    "filter_docs = {2408, 5053, 6921, 10670, 12195, 18813, 22245}\n",
    "\n",
    "\n",
    "def load_scores(filename: str) -> Iterable[Tuple[int, int]]:\n",
    "    with open(filename, \"r\") as f:\n",
    "        data = json.load(f)\n",
    "        for id, text in data:\n",
    "            id = int(id)\n",
    "            if id not in filter_docs:\n",
    "                score = _parse_score(id, text)\n",
    "                if score in {-1, 0, 1, 2, 3, 4, 5}:\n",
    "                    yield id, _parse_score(id, text)\n",
    "                else:\n",
    "                    print(f\"Errornous score for doc {id=}: {score=}\")\n",
    "\n",
    "\n",
    "def _parse_score(id: int, text: str) -> int:\n",
    "    matches = re.findall(r\"Educational score: (-?\\d+)\", text)\n",
    "    if not matches:\n",
    "        matches = re.findall(r\"(-?\\d+) point\", text)\n",
    "    if not matches:\n",
    "        matches = re.findall(r\"score:(-?\\d+)\", text)\n",
    "    if not matches:\n",
    "        matches = re.findall(r\"educational score is (-?\\d+)\", text)\n",
    "    if not matches and (\n",
    "        \"Educational score: Not applicable\" in text or \"I'm sorry\" in text\n",
    "    ):\n",
    "        matches = [-1]\n",
    "    if not matches:\n",
    "        raise ValueError(f\"Parsing error in file {id} with text:\\n{text}\")\n",
    "    return int(matches[-1])\n",
    "\n",
    "\n",
    "# def _parse_score(id: int, text: str) -> int:\n",
    "#     text_split = text.split(\" \")\n",
    "#     try:\n",
    "#         return _try_parse_score(text_split[-1])\n",
    "#     except ValueError as e1:\n",
    "#         try:\n",
    "#             return _try_parse_score(text_split[-2])\n",
    "#         except ValueError as e2:\n",
    "#             print(f\"Error for {id=}:\\n{e1=}\\n{e2=}\")\n",
    "#             raise\n",
    "\n",
    "\n",
    "# def _try_parse_score(score_text: str) -> int:\n",
    "#     if \"/\" in score_text:\n",
    "#         return int(score_text.split(\"/\")[0])\n",
    "#     int(score_text)\n",
    "\n",
    "\n",
    "mixtral_data = dict(load_scores(mixtral_filename))\n",
    "llama_data = dict(load_scores(llama_filename))"
   ]
  },
  {
   "cell_type": "code",
   "execution_count": 2,
   "metadata": {},
   "outputs": [
    {
     "name": "stdout",
     "output_type": "stream",
     "text": [
      "Mixtral only keys: []\n",
      "Llama only keys:   [0, 1, 2, 3, 4, 5, 6, 7, 8, 9, 10, 11, 12, 13, 14, 15, 16, 17, 18, 19, 20, 21, 22, 23, 24, 25, 26, 27, 28, 29, 30, 31, 32, 33, 34, 35, 36, 37, 38, 39, 40, 41, 42, 43, 44, 45, 46, 47, 48, 49, 50, 51, 52, 53, 54, 55, 56, 57, 58, 59, 60, 61, 62, 63, 64, 65, 66, 67, 68, 69, 70, 71, 72, 73, 74, 75, 76, 77, 78, 79, 80, 81, 82, 83, 84, 85, 86, 87, 88, 89, 90, 91, 92, 93, 94, 95, 96, 97, 98, 99, 100, 101, 102, 103, 104, 105, 106, 107, 108, 109, 110, 111, 112, 113, 114, 115, 116, 117, 118, 119, 120, 121, 122, 123, 124, 125, 126, 127, 128, 129, 130, 131, 132, 133, 134, 135, 136, 137, 138, 139, 140, 141, 142, 143, 144, 145, 146, 147, 148, 149, 150, 151, 152, 153, 19681]\n"
     ]
    }
   ],
   "source": [
    "print(f\"Mixtral only keys: {list(set(mixtral_data).difference(llama_data))}\")\n",
    "print(f\"Llama only keys:   {list(set(llama_data).difference(mixtral_data))}\")\n",
    "common_keys = set(mixtral_data).intersection(llama_data)"
   ]
  },
  {
   "cell_type": "code",
   "execution_count": 3,
   "metadata": {},
   "outputs": [
    {
     "data": {
      "text/plain": [
       "[3721, 5418, 14771, 17679, 19700]"
      ]
     },
     "execution_count": 3,
     "metadata": {},
     "output_type": "execute_result"
    }
   ],
   "source": [
    "minus_one_mixtral = [k for k, v in mixtral_data.items() if v == -1]\n",
    "minus_one_llama = [k for k, v in llama_data.items() if v == -1]\n",
    "minus_one_mixtral"
   ]
  },
  {
   "cell_type": "code",
   "execution_count": 4,
   "metadata": {},
   "outputs": [
    {
     "data": {
      "text/plain": [
       "24833"
      ]
     },
     "execution_count": 4,
     "metadata": {},
     "output_type": "execute_result"
    }
   ],
   "source": [
    "eval_keys = list(common_keys.difference(minus_one_mixtral))\n",
    "len(eval_keys)"
   ]
  },
  {
   "cell_type": "markdown",
   "metadata": {},
   "source": [
    "# Score comparison"
   ]
  },
  {
   "cell_type": "code",
   "execution_count": 5,
   "metadata": {},
   "outputs": [
    {
     "name": "stdout",
     "output_type": "stream",
     "text": [
      "count_same_score=10738\n",
      "percentage=0.43240848870454635\n"
     ]
    }
   ],
   "source": [
    "count_same_score = sum(mixtral_data[k] == llama_data[k] for k in eval_keys)\n",
    "print(f\"{count_same_score=}\\npercentage={count_same_score / len(eval_keys)}\")"
   ]
  },
  {
   "cell_type": "code",
   "execution_count": 6,
   "metadata": {},
   "outputs": [
    {
     "name": "stdout",
     "output_type": "stream",
     "text": [
      "count_close_score=22607\n",
      "percentage=0.9103612129021866\n"
     ]
    }
   ],
   "source": [
    "count_close_score = sum(abs(mixtral_data[k] - llama_data[k]) <= 1 for k in eval_keys)\n",
    "print(f\"{count_close_score=}\\npercentage={count_close_score / len(eval_keys)}\")"
   ]
  },
  {
   "cell_type": "code",
   "execution_count": 7,
   "metadata": {},
   "outputs": [
    {
     "name": "stdout",
     "output_type": "stream",
     "text": [
      "count_not_close_score=2226\n",
      "percentage=0.0896387870978134\n"
     ]
    }
   ],
   "source": [
    "count_not_close_score = sum(abs(mixtral_data[k] - llama_data[k]) > 1 for k in eval_keys)\n",
    "print(f\"{count_not_close_score=}\\npercentage={count_not_close_score / len(eval_keys)}\")"
   ]
  },
  {
   "cell_type": "code",
   "execution_count": 17,
   "metadata": {},
   "outputs": [
    {
     "name": "stdout",
     "output_type": "stream",
     "text": [
      "count_not_close_at_all_score=288\n",
      "percentage=0.011597471106994725\n"
     ]
    },
    {
     "ename": "",
     "evalue": "",
     "output_type": "error",
     "traceback": [
      "\u001b[1;31mThe Kernel crashed while executing code in the current cell or a previous cell. \n",
      "\u001b[1;31mPlease review the code in the cell(s) to identify a possible cause of the failure. \n",
      "\u001b[1;31mClick <a href='https://aka.ms/vscodeJupyterKernelCrash'>here</a> for more info. \n",
      "\u001b[1;31mView Jupyter <a href='command:jupyter.viewOutput'>log</a> for further details."
     ]
    }
   ],
   "source": [
    "count_not_close_at_all_score = sum(abs(mixtral_data[k] - llama_data[k]) > 2 for k in eval_keys)\n",
    "print(f\"{count_not_close_at_all_score=}\\npercentage={count_not_close_at_all_score / len(eval_keys)}\")"
   ]
  },
  {
   "cell_type": "code",
   "execution_count": 8,
   "metadata": {},
   "outputs": [
    {
     "name": "stdout",
     "output_type": "stream",
     "text": [
      "count_mixtral_larger_score=1692\n",
      "percentage=0.068135142753594\n"
     ]
    }
   ],
   "source": [
    "count_mixtral_larger_score = sum(llama_data[k] - mixtral_data[k] < 0 for k in eval_keys)\n",
    "print(f\"{count_mixtral_larger_score=}\\npercentage={count_mixtral_larger_score / len(eval_keys)}\")"
   ]
  },
  {
   "cell_type": "code",
   "execution_count": 9,
   "metadata": {},
   "outputs": [
    {
     "name": "stdout",
     "output_type": "stream",
     "text": [
      "count_llama_larger_score=12403\n",
      "percentage=0.4994563685418596\n"
     ]
    }
   ],
   "source": [
    "count_llama_larger_score = sum(mixtral_data[k] - llama_data[k] < 0 for k in eval_keys)\n",
    "print(f\"{count_llama_larger_score=}\\npercentage={count_llama_larger_score / len(eval_keys)}\")"
   ]
  },
  {
   "cell_type": "code",
   "execution_count": 10,
   "metadata": {},
   "outputs": [
    {
     "name": "stdout",
     "output_type": "stream",
     "text": [
      "both_larger_three_count=880\n",
      "percentage=0.03543671727137277\n",
      "only_mistral_larger_three_count=718\n",
      "percentage=0.028913139773688236\n",
      "only_llama_larger_three_count=1425\n",
      "percentage=0.057383320581484314\n"
     ]
    }
   ],
   "source": [
    "both_larger_three_count = sum(mixtral_data[k] >= 3 and llama_data[k] >= 3  for k in eval_keys)\n",
    "only_mistral_larger_three_count = sum(mixtral_data[k] >= 3 and llama_data[k] < 3  for k in eval_keys)\n",
    "only_llama_larger_three_count = sum(mixtral_data[k] < 3 and llama_data[k] >= 3  for k in eval_keys)\n",
    "print(f\"{both_larger_three_count=}\\npercentage={both_larger_three_count / len(eval_keys)}\")\n",
    "print(f\"{only_mistral_larger_three_count=}\\npercentage={only_mistral_larger_three_count / len(eval_keys)}\")\n",
    "print(f\"{only_llama_larger_three_count=}\\npercentage={only_llama_larger_three_count / len(eval_keys)}\")"
   ]
  },
  {
   "cell_type": "code",
   "execution_count": 11,
   "metadata": {},
   "outputs": [
    {
     "name": "stdout",
     "output_type": "stream",
     "text": [
      "both_larger_two_count=2495\n",
      "percentage=0.10047114726372167\n",
      "only_mistral_larger_two_count=644\n",
      "percentage=0.025933234003140983\n",
      "only_llama_larger_two_count=5394\n",
      "percentage=0.21721096927475536\n"
     ]
    }
   ],
   "source": [
    "both_larger_two_count = sum(mixtral_data[k] >= 2 and llama_data[k] >= 2  for k in eval_keys)\n",
    "only_mistral_larger_two_count = sum(mixtral_data[k] >= 2 and llama_data[k] < 2  for k in eval_keys)\n",
    "only_llama_larger_two_count = sum(mixtral_data[k] < 2 and llama_data[k] >= 2  for k in eval_keys)\n",
    "print(f\"{both_larger_two_count=}\\npercentage={both_larger_two_count / len(eval_keys)}\")\n",
    "print(f\"{only_mistral_larger_two_count=}\\npercentage={only_mistral_larger_two_count / len(eval_keys)}\")\n",
    "print(f\"{only_llama_larger_two_count=}\\npercentage={only_llama_larger_two_count / len(eval_keys)}\")"
   ]
  },
  {
   "cell_type": "code",
   "execution_count": 12,
   "metadata": {},
   "outputs": [
    {
     "name": "stdout",
     "output_type": "stream",
     "text": [
      "mean of absolute score differences = 0.6699955704103411\n"
     ]
    },
    {
     "data": {
      "image/png": "[encoded data removed]",
      "text/plain": [
       "<Figure size 640x480 with 1 Axes>"
      ]
     },
     "metadata": {},
     "output_type": "display_data"
    }
   ],
   "source": [
    "import matplotlib.pyplot as plt\n",
    "import numpy as np\n",
    "\n",
    "sorted_eval_keys = sorted(eval_keys)\n",
    "\n",
    "mixtral_data_np = np.array([mixtral_data[k] for k in sorted_eval_keys])\n",
    "llama_data_np = np.array([llama_data[k] for k in sorted_eval_keys])\n",
    "\n",
    "score_diff_abs = np.abs(mixtral_data_np - llama_data_np)\n",
    "\n",
    "fig, ax = plt.subplots()\n",
    "VP = ax.boxplot(\n",
    "    score_diff_abs,\n",
    "    positions=[1],\n",
    "    widths=1.0,\n",
    "    patch_artist=True,\n",
    "    showmeans=True,\n",
    "    showfliers=True,\n",
    "    medianprops={\"color\": \"white\", \"linewidth\": 0.5},\n",
    "    boxprops={\"facecolor\": \"C0\", \"edgecolor\": \"white\", \"linewidth\": 0.5},\n",
    "    whiskerprops={\"color\": \"C0\", \"linewidth\": 1.5},\n",
    "    capprops={\"color\": \"C0\", \"linewidth\": 1.5},\n",
    ")\n",
    "\n",
    "ax.set(\n",
    "    xlim=(0, 2),\n",
    "    xticks=[1],\n",
    "    xticklabels=[\"abs score diffs\"],\n",
    "    ylim=(0, 5),\n",
    "    yticks=np.arange(0, 5),\n",
    ")\n",
    "\n",
    "print(\"mean of absolute score differences =\", score_diff_abs.mean())\n",
    "\n",
    "plt.title(\"Distribution of absolute count differences\")\n",
    "\n",
    "plt.show()"
   ]
  },
  {
   "cell_type": "code",
   "execution_count": 13,
   "metadata": {},
   "outputs": [
    {
     "name": "stdout",
     "output_type": "stream",
     "text": [
      "mean of score differences = -0.5121411025651351\n"
     ]
    },
    {
     "data": {
      "image/png": "[encoded data removed]",
      "text/plain": [
       "<Figure size 640x480 with 1 Axes>"
      ]
     },
     "metadata": {},
     "output_type": "display_data"
    }
   ],
   "source": [
    "score_diff = mixtral_data_np - llama_data_np\n",
    "\n",
    "fig, ax = plt.subplots()\n",
    "VP = ax.boxplot(\n",
    "    score_diff,\n",
    "    positions=[1],\n",
    "    widths=1.0,\n",
    "    patch_artist=True,\n",
    "    showmeans=True,\n",
    "    showfliers=True,\n",
    "    medianprops={\"color\": \"white\", \"linewidth\": 0.5},\n",
    "    boxprops={\"facecolor\": \"C0\", \"edgecolor\": \"white\", \"linewidth\": 0.5},\n",
    "    whiskerprops={\"color\": \"C0\", \"linewidth\": 1.5},\n",
    "    capprops={\"color\": \"C0\", \"linewidth\": 1.5},\n",
    ")\n",
    "\n",
    "ax.set(\n",
    "    xlim=(0, 2),\n",
    "    xticks=[1],\n",
    "    xticklabels=[\"score diffs\"],\n",
    "    ylim=(-5, 5),\n",
    "    yticks=np.arange(-4, 5),\n",
    ")\n",
    "\n",
    "print(\"mean of score differences =\", score_diff.mean())\n",
    "\n",
    "plt.title(\"Distribution of count differences (Mixtral - Llama)\")\n",
    "\n",
    "plt.show()"
   ]
  },
  {
   "cell_type": "code",
   "execution_count": 14,
   "metadata": {},
   "outputs": [
    {
     "name": "stdout",
     "output_type": "stream",
     "text": [
      "Mixtral mean: 0.7584262876011758\n",
      "Llama mean: 1.270567390166311\n"
     ]
    },
    {
     "data": {
      "image/png": "[encoded data removed]",
      "text/plain": [
       "<Figure size 640x480 with 1 Axes>"
      ]
     },
     "metadata": {},
     "output_type": "display_data"
    }
   ],
   "source": [
    "D = [mixtral_data_np, llama_data_np]\n",
    "\n",
    "fig, ax = plt.subplots()\n",
    "VP = ax.boxplot(\n",
    "    D,\n",
    "    positions=[2, 4],\n",
    "    widths=1.0,\n",
    "    patch_artist=True,\n",
    "    showmeans=True,\n",
    "    showfliers=True,\n",
    "    medianprops={\"color\": \"white\", \"linewidth\": 0.5},\n",
    "    boxprops={\"facecolor\": \"C0\", \"edgecolor\": \"white\", \"linewidth\": 0.5},\n",
    "    whiskerprops={\"color\": \"C0\", \"linewidth\": 1.5},\n",
    "    capprops={\"color\": \"C0\", \"linewidth\": 1.5},\n",
    ")\n",
    "\n",
    "ax.set(\n",
    "    xlim=(0, 6),\n",
    "    xticks=np.array([2, 4]),\n",
    "    xticklabels=[\"Mixtral\", \"Llama\"],\n",
    "    ylim=(-1, 6),\n",
    "    yticks=np.arange(0, 6),\n",
    ")\n",
    "\n",
    "print(\"Mixtral mean:\", mixtral_data_np.mean())\n",
    "print(\"Llama mean:\", llama_data_np.mean())\n",
    "\n",
    "plt.title('Count distributions')\n",
    "\n",
    "plt.show()"
   ]
  },
  {
   "cell_type": "code",
   "execution_count": 15,
   "metadata": {},
   "outputs": [
    {
     "data": {
      "image/png": "[encoded data removed]",
      "text/plain": [
       "<Figure size 1200x500 with 2 Axes>"
      ]
     },
     "metadata": {},
     "output_type": "display_data"
    }
   ],
   "source": [
    "mixtral_counts = np.bincount(mixtral_data_np)\n",
    "llama_counts = np.bincount(llama_data_np)\n",
    "\n",
    "fig, (ax1, ax2) = plt.subplots(1, 2, figsize=(12, 5))\n",
    "\n",
    "ax1.bar(range(len(mixtral_counts)), mixtral_counts)\n",
    "ax1.set_xlabel('Score')\n",
    "ax1.set_ylabel('Count')\n",
    "ax1.set_title('Score counts for Mixtral')\n",
    "\n",
    "ax2.bar(range(len(llama_counts)), llama_counts)\n",
    "ax2.set_xlabel('Score')\n",
    "ax2.set_ylabel('Count')\n",
    "ax2.set_title('Score counts for Llama')\n",
    "\n",
    "plt.tight_layout()\n",
    "plt.show()"
   ]
  },
  {
   "cell_type": "code",
   "execution_count": null,
   "metadata": {},
   "outputs": [],
   "source": []
  }
 ],
 "metadata": {
  "kernelspec": {
   "display_name": "SyncSkill",
   "language": "python",
   "name": "python3"
  },
  "language_info": {
   "codemirror_mode": {
    "name": "ipython",
    "version": 3
   },
   "file_extension": ".py",
   "mimetype": "text/x-python",
   "name": "python",
   "nbconvert_exporter": "python",
   "pygments_lexer": "ipython3",
   "version": "3.11.9"
  }
 },
 "nbformat": 4,
 "nbformat_minor": 2
}
