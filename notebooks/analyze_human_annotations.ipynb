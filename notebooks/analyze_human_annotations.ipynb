{
 "cells": [
  {
   "cell_type": "code",
   "execution_count": 1,
   "id": "4cda8719",
   "metadata": {},
   "outputs": [],
   "source": [
    "from collections import Counter\n",
    "import json\n",
    "from pathlib import Path\n",
    "from statistics import mean\n",
    "\n",
    "import matplotlib.pyplot as plt\n",
    "import pandas as pd\n",
    "import seaborn as sns\n",
    "\n",
    "from ml_filter.analysis.utils import get_document_scores_df"
   ]
  },
  {
   "cell_type": "code",
   "execution_count": 2,
   "id": "2cb7fa05",
   "metadata": {},
   "outputs": [],
   "source": [
    "human_annotations_file = Path(\"/raid/s3/opengptx/user/richard-rutmann/data/eurolingua/prompt_based_annotations/test_data/gt/annotations__educational_content__en__gt.jsonl\")\n",
    "output_dir = Path(\"/raid/s3/opengptx/user/richard-rutmann/data/eurolingua/prompt_based_annotations/test_data/gt/plots\")\n",
    "output_dir.mkdir(parents=True, exist_ok=True)"
   ]
  },
  {
   "cell_type": "code",
   "execution_count": 3,
   "id": "71967b32",
   "metadata": {},
   "outputs": [],
   "source": [
    "def most_frequent_average(values: list[int]) -> float:\n",
    "    \"\"\"\n",
    "    Finds the most frequent value(s) in a list. If there are ties, returns the average of the tied values.\n",
    "\n",
    "    Args:\n",
    "        values (list): A list of values (can be integers, floats, etc.) to analyze.\n",
    "\n",
    "    Returns:\n",
    "        float: The most frequent value, or the average of the most frequent values if there is a tie.\n",
    "\n",
    "    Example:\n",
    "        >>> values = [4, 2, 2, 3, 3, 5]\n",
    "        >>> most_frequent_average(values)\n",
    "        2.5\n",
    "    \"\"\"\n",
    "\n",
    "    counts = Counter(values)\n",
    "    max_frequency = max(counts.values())\n",
    "    most_frequent_values = [key for key, val in counts.items() if val == max_frequency]\n",
    "    return sum(most_frequent_values) / len(most_frequent_values)\n"
   ]
  },
  {
   "cell_type": "code",
   "execution_count": 4,
   "id": "e9897983",
   "metadata": {},
   "outputs": [],
   "source": [
    "def load_human_annotations(\n",
    "    annotation_file: Path,\n",
    "    aggregation_strategy: str,\n",
    ") -> dict[str, dict[str, float]]:\n",
    "    \"\"\"\n",
    "    Extracts the scores and corresponding document ids from a set of jsonl-files.\n",
    "    Documents which do not have a score for each annotator are excluded.\n",
    "\n",
    "    Args:\n",
    "        annotation_file (Path): Path to file with human annotations.\n",
    "        aggregation_strategy (str, optional): Specifies how scores for a document from the same file are aggregated.\n",
    "            Supported values:\n",
    "            - \"mean\": Compute the average score.\n",
    "            - \"max\": Use the maximum score.\n",
    "            - \"min\": Use the minimum score.\n",
    "            - \"majority\": Use the score that was voted the most. If there is a tie, take the average of the winners.\n",
    "\n",
    "    Raises:\n",
    "        ValueError: If invalid parameter combinations are provided.\n",
    "\n",
    "    Returns:\n",
    "        None\n",
    "    \"\"\"\n",
    "    document_scores = []\n",
    "\n",
    "    # Read the JSONL file and extract scores for each document\n",
    "    with open(annotation_file, \"r\") as f:\n",
    "        for line in f:\n",
    "            json_obj = json.loads(line)\n",
    "            scores = [float(score) for score in json_obj.get(\"scores\")]\n",
    "\n",
    "            # aggregate scores for each document\n",
    "            if aggregation_strategy == \"min\":\n",
    "                aggregated_score = min(scores)\n",
    "            elif aggregation_strategy == \"max\":\n",
    "                aggregated_score = max(scores)\n",
    "            elif aggregation_strategy == \"mean\":\n",
    "                aggregated_score = mean(scores)\n",
    "            elif aggregation_strategy == \"majority\":\n",
    "                aggregated_score = most_frequent_average(scores)\n",
    "            else:\n",
    "                raise NotImplementedError(f\"Aggregation type {aggregation_strategy} is not supported.\")\n",
    "\n",
    "            document_scores.append(\n",
    "                {\n",
    "                    \"doc_id\": json_obj.get(\"document_id\"),\n",
    "                    \"score\": aggregated_score,\n",
    "                }\n",
    "            )\n",
    "\n",
    "    document_scores_df = pd.DataFrame(document_scores)\n",
    "    return document_scores_df"
   ]
  },
  {
   "cell_type": "code",
   "execution_count": 5,
   "id": "7fe36f13",
   "metadata": {},
   "outputs": [
    {
     "data": {
      "text/html": [
       "<div>\n",
       "<style scoped>\n",
       "    .dataframe tbody tr th:only-of-type {\n",
       "        vertical-align: middle;\n",
       "    }\n",
       "\n",
       "    .dataframe tbody tr th {\n",
       "        vertical-align: top;\n",
       "    }\n",
       "\n",
       "    .dataframe thead th {\n",
       "        text-align: right;\n",
       "    }\n",
       "</style>\n",
       "<table border=\"1\" class=\"dataframe\">\n",
       "  <thead>\n",
       "    <tr style=\"text-align: right;\">\n",
       "      <th></th>\n",
       "      <th>doc_id</th>\n",
       "      <th>score</th>\n",
       "    </tr>\n",
       "  </thead>\n",
       "  <tbody>\n",
       "    <tr>\n",
       "      <th>0</th>\n",
       "      <td>0</td>\n",
       "      <td>2.000000</td>\n",
       "    </tr>\n",
       "    <tr>\n",
       "      <th>1</th>\n",
       "      <td>1</td>\n",
       "      <td>3.000000</td>\n",
       "    </tr>\n",
       "    <tr>\n",
       "      <th>2</th>\n",
       "      <td>2</td>\n",
       "      <td>1.666667</td>\n",
       "    </tr>\n",
       "    <tr>\n",
       "      <th>3</th>\n",
       "      <td>3</td>\n",
       "      <td>0.000000</td>\n",
       "    </tr>\n",
       "    <tr>\n",
       "      <th>4</th>\n",
       "      <td>4</td>\n",
       "      <td>0.000000</td>\n",
       "    </tr>\n",
       "  </tbody>\n",
       "</table>\n",
       "</div>"
      ],
      "text/plain": [
       "  doc_id     score\n",
       "0      0  2.000000\n",
       "1      1  3.000000\n",
       "2      2  1.666667\n",
       "3      3  0.000000\n",
       "4      4  0.000000"
      ]
     },
     "execution_count": 5,
     "metadata": {},
     "output_type": "execute_result"
    }
   ],
   "source": [
    "human_annotations_df = load_human_annotations(human_annotations_file, aggregation_strategy=\"majority\")\n",
    "human_annotations_df.head()"
   ]
  },
  {
   "cell_type": "code",
   "execution_count": 6,
   "id": "b41c518c",
   "metadata": {},
   "outputs": [
    {
     "data": {
      "image/png": "[encoded data removed]",
      "text/plain": [
       "<Figure size 640x480 with 1 Axes>"
      ]
     },
     "metadata": {},
     "output_type": "display_data"
    }
   ],
   "source": [
    "\n",
    "# Define bin edges to center bins around integers 0 to 5\n",
    "bin_edges = [-0.5, 0.5, 1.5, 2.5, 3.5, 4.5, 5.5]\n",
    "\n",
    "# Plot the \"score\" column as a histogram using Seaborn\n",
    "ax = sns.histplot(data=human_annotations_df, x=\"score\", bins=bin_edges, kde=False, edgecolor=\"black\", discrete=True)\n",
    "plt.title(\"Histogram of Human Annotations\")\n",
    "plt.xlabel(\"Score\")\n",
    "plt.ylabel(\"Frequency\")\n",
    "plt.xticks(range(6))  # Set x-axis ticks to integers 0 to 5\n",
    "plt.grid(True)\n",
    "\n",
    "# Adjust y-axis limits to ensure annotations fit\n",
    "y_max = human_annotations_df[\"score\"].value_counts().max()  # Get the maximum frequency\n",
    "plt.ylim(0, y_max + y_max * 0.1)  # Add 10% padding above the tallest bar\n",
    "\n",
    "# Annotate each bar with its height\n",
    "for bar in ax.patches:\n",
    "    height = bar.get_height()\n",
    "    if height > 0:  # Only annotate bars with non-zero height\n",
    "        ax.annotate(f'{int(height)}',  # Convert height to integer for display\n",
    "                    xy=(bar.get_x() + bar.get_width() / 2, height),  # Position at the center of the bar\n",
    "                    xytext=(0, 5),  # Offset text slightly above the bar\n",
    "                    textcoords=\"offset points\",\n",
    "                    ha='center', va='bottom')  # Center alignment\n",
    "\n",
    "plt.savefig(output_dir / \"human_annotations_histogram.png\", dpi=300, bbox_inches='tight')\n",
    "plt.show()"
   ]
  }
 ],
 "metadata": {
  "kernelspec": {
   "display_name": ".venv",
   "language": "python",
   "name": "python3"
  },
  "language_info": {
   "codemirror_mode": {
    "name": "ipython",
    "version": 3
   },
   "file_extension": ".py",
   "mimetype": "text/x-python",
   "name": "python",
   "nbconvert_exporter": "python",
   "pygments_lexer": "ipython3",
   "version": "3.11.5"
  }
 },
 "nbformat": 4,
 "nbformat_minor": 5
}
