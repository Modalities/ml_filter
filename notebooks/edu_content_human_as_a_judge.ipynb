{
 "cells": [
  {
   "cell_type": "code",
   "execution_count": 11,
   "id": "e32546d4",
   "metadata": {},
   "outputs": [],
   "source": [
    "import krippendorff\n",
    "import numpy as np\n",
    "import json     "
   ]
  },
  {
   "cell_type": "code",
   "execution_count": 12,
   "id": "3467ff65",
   "metadata": {},
   "outputs": [],
   "source": [
    "def load_annotations(jsonl_path):\n",
    "    scores = []\n",
    "    with open(jsonl_path, 'r') as f:\n",
    "        for line in f:\n",
    "            obj = json.loads(line)\n",
    "            row = obj.get(\"scores\")\n",
    "            cleaned = [int(x) if x is not None else None for x in row]\n",
    "            if cleaned:  # ensure it’s not empty\n",
    "                scores.append(cleaned)\n",
    "    return scores"
   ]
  },
  {
   "cell_type": "code",
   "execution_count": 13,
   "id": "57a95718",
   "metadata": {},
   "outputs": [],
   "source": [
    "# Transpose data to shape (annotator, item)\n",
    "def compute_krippendorff_alpha(annotations):\n",
    "    data = np.array(annotations).T\n",
    "    alpha = krippendorff.alpha(reliability_data=data, level_of_measurement='interval')\n",
    "    return alpha"
   ]
  },
  {
   "cell_type": "code",
   "execution_count": 14,
   "id": "a9a6602c",
   "metadata": {},
   "outputs": [
    {
     "name": "stdout",
     "output_type": "stream",
     "text": [
      "Krippendorff’s alpha (ordinal): 0.569\n"
     ]
    }
   ],
   "source": [
    "jsonl_path = \"annotations__educational_content__en__gt.jsonl\"\n",
    "annotations = load_annotations(jsonl_path)\n",
    "alpha = compute_krippendorff_alpha(annotations)\n",
    "print(f\"Krippendorff’s alpha (ordinal): {alpha:.3f}\")"
   ]
  }
 ],
 "metadata": {
  "kernelspec": {
   "display_name": "Python 3",
   "language": "python",
   "name": "python3"
  },
  "language_info": {
   "codemirror_mode": {
    "name": "ipython",
    "version": 3
   },
   "file_extension": ".py",
   "mimetype": "text/x-python",
   "name": "python",
   "nbconvert_exporter": "python",
   "pygments_lexer": "ipython3",
   "version": "3.11.11"
  }
 },
 "nbformat": 4,
 "nbformat_minor": 5
}
