{
 "cells": [
  {
   "cell_type": "code",
   "execution_count": 1,
   "metadata": {},
   "outputs": [
    {
     "name": "stdout",
     "output_type": "stream",
     "text": [
      "/raid/s3/opengptx/eurolingua/cc_debug_datasets/cc_debug_subset_100_docs_raw/2014-41/da/00135.jsonl\n",
      "/raid/s3/opengptx/eurolingua/cc_debug_datasets/cc_debug_subset_100_docs_raw/2014-41/sv/00088.jsonl\n",
      "/raid/s3/opengptx/eurolingua/cc_debug_datasets/cc_debug_subset_100_docs_raw/2014-41/fr/00007.jsonl\n",
      "/raid/s3/opengptx/eurolingua/cc_debug_datasets/cc_debug_subset_100_docs_raw/2014-41/pt/00175.jsonl\n",
      "/raid/s3/opengptx/eurolingua/cc_debug_datasets/cc_debug_subset_100_docs_raw/2014-41/ga/00115.jsonl\n",
      "/raid/s3/opengptx/eurolingua/cc_debug_datasets/cc_debug_subset_100_docs_raw/2014-41/hu/00090.jsonl\n",
      "/raid/s3/opengptx/eurolingua/cc_debug_datasets/cc_debug_subset_100_docs_raw/2014-41/sk/00097.jsonl\n",
      "/raid/s3/opengptx/eurolingua/cc_debug_datasets/cc_debug_subset_100_docs_raw/2023-50/pl/00071.jsonl\n",
      "/raid/s3/opengptx/eurolingua/cc_debug_datasets/cc_debug_subset_100_docs_raw/2023-50/ca/00147.jsonl\n",
      "/raid/s3/opengptx/eurolingua/cc_debug_datasets/cc_debug_subset_100_docs_raw/2023-50/is/00182.jsonl\n",
      "/raid/s3/opengptx/eurolingua/cc_debug_datasets/cc_debug_subset_1000_docs_raw/2014-41/bg/00240.jsonl\n",
      "/raid/s3/opengptx/eurolingua/cc_debug_datasets/cc_debug_subset_1000_docs_raw/2014-41/sq/00246.jsonl\n",
      "/raid/s3/opengptx/eurolingua/cc_debug_datasets/cc_debug_subset_1000_docs_raw/2014-41/fi/00187.jsonl\n",
      "/raid/s3/opengptx/eurolingua/cc_debug_datasets/cc_debug_subset_1000_docs_raw/2014-41/eu/00162.jsonl\n",
      "/raid/s3/opengptx/eurolingua/cc_debug_datasets/cc_debug_subset_1000_docs_raw/2014-41/eu/00154.jsonl\n",
      "/raid/s3/opengptx/eurolingua/cc_debug_datasets/cc_debug_subset_1000_docs_raw/2014-41/eu/00107.jsonl\n",
      "/raid/s3/opengptx/eurolingua/cc_debug_datasets/cc_debug_subset_1000_docs_raw/2014-41/da/00148.jsonl\n",
      "/raid/s3/opengptx/eurolingua/cc_debug_datasets/cc_debug_subset_1000_docs_raw/2014-41/da/00175.jsonl\n",
      "/raid/s3/opengptx/eurolingua/cc_debug_datasets/cc_debug_subset_1000_docs_raw/2014-41/da/00135.jsonl\n",
      "/raid/s3/opengptx/eurolingua/cc_debug_datasets/cc_debug_subset_1000_docs_raw/2014-41/sv/00111.jsonl\n",
      "/raid/s3/opengptx/eurolingua/cc_debug_datasets/cc_debug_subset_1000_docs_raw/2014-41/sv/00113.jsonl\n",
      "/raid/s3/opengptx/eurolingua/cc_debug_datasets/cc_debug_subset_1000_docs_raw/2014-41/sv/00088.jsonl\n",
      "/raid/s3/opengptx/eurolingua/cc_debug_datasets/cc_debug_subset_1000_docs_raw/2014-41/pl/00138.jsonl\n",
      "/raid/s3/opengptx/eurolingua/cc_debug_datasets/cc_debug_subset_1000_docs_raw/2014-41/pl/00110.jsonl\n",
      "/raid/s3/opengptx/eurolingua/cc_debug_datasets/cc_debug_subset_1000_docs_raw/2014-41/fr/00005.jsonl\n",
      "/raid/s3/opengptx/eurolingua/cc_debug_datasets/cc_debug_subset_1000_docs_raw/2014-41/fr/00007.jsonl\n",
      "/raid/s3/opengptx/eurolingua/cc_debug_datasets/cc_debug_subset_1000_docs_raw/2014-41/nl/00167.jsonl\n",
      "/raid/s3/opengptx/eurolingua/cc_debug_datasets/cc_debug_subset_1000_docs_raw/2014-41/de/00004.jsonl\n",
      "/raid/s3/opengptx/eurolingua/cc_debug_datasets/cc_debug_subset_1000_docs_raw/2014-41/de/00099.jsonl\n",
      "/raid/s3/opengptx/eurolingua/cc_debug_datasets/cc_debug_subset_1000_docs_raw/2014-41/it/00027.jsonl\n",
      "/raid/s3/opengptx/eurolingua/cc_debug_datasets/cc_debug_subset_1000_docs_raw/2014-41/ro/00241.jsonl\n",
      "/raid/s3/opengptx/eurolingua/cc_debug_datasets/cc_debug_subset_1000_docs_raw/2014-41/pt/00175.jsonl\n",
      "/raid/s3/opengptx/eurolingua/cc_debug_datasets/cc_debug_subset_1000_docs_raw/2014-41/pt/00152.jsonl\n",
      "/raid/s3/opengptx/eurolingua/cc_debug_datasets/cc_debug_subset_1000_docs_raw/2014-41/ga/00115.jsonl\n",
      "/raid/s3/opengptx/eurolingua/cc_debug_datasets/cc_debug_subset_1000_docs_raw/2014-41/hu/00090.jsonl\n",
      "/raid/s3/opengptx/eurolingua/cc_debug_datasets/cc_debug_subset_1000_docs_raw/2014-41/sk/00097.jsonl\n",
      "/raid/s3/opengptx/eurolingua/cc_debug_datasets/cc_debug_subset_1000_docs_raw/2014-41/is/00220.jsonl\n",
      "/raid/s3/opengptx/eurolingua/cc_debug_datasets/cc_debug_subset_1000_docs_raw/2019-26/nn/00159.jsonl\n",
      "/raid/s3/opengptx/eurolingua/cc_debug_datasets/cc_debug_subset_1000_docs_raw/2019-26/fi/00092.jsonl\n",
      "/raid/s3/opengptx/eurolingua/cc_debug_datasets/cc_debug_subset_1000_docs_raw/2019-26/mk/00160.jsonl\n",
      "/raid/s3/opengptx/eurolingua/cc_debug_datasets/cc_debug_subset_1000_docs_raw/2019-26/mk/00166.jsonl\n",
      "/raid/s3/opengptx/eurolingua/cc_debug_datasets/cc_debug_subset_1000_docs_raw/2019-26/sv/00139.jsonl\n",
      "/raid/s3/opengptx/eurolingua/cc_debug_datasets/cc_debug_subset_1000_docs_raw/2019-26/es/00195.jsonl\n",
      "/raid/s3/opengptx/eurolingua/cc_debug_datasets/cc_debug_subset_1000_docs_raw/2019-26/es/00225.jsonl\n",
      "/raid/s3/opengptx/eurolingua/cc_debug_datasets/cc_debug_subset_1000_docs_raw/2019-26/es/00165.jsonl\n",
      "/raid/s3/opengptx/eurolingua/cc_debug_datasets/cc_debug_subset_1000_docs_raw/2019-26/gl/00040.jsonl\n",
      "/raid/s3/opengptx/eurolingua/cc_debug_datasets/cc_debug_subset_1000_docs_raw/2019-26/lv/00140.jsonl\n",
      "/raid/s3/opengptx/eurolingua/cc_debug_datasets/cc_debug_subset_1000_docs_raw/2023-50/et/00005.jsonl\n",
      "/raid/s3/opengptx/eurolingua/cc_debug_datasets/cc_debug_subset_1000_docs_raw/2023-50/sh/00247.jsonl\n",
      "/raid/s3/opengptx/eurolingua/cc_debug_datasets/cc_debug_subset_1000_docs_raw/2023-50/sv/00137.jsonl\n",
      "/raid/s3/opengptx/eurolingua/cc_debug_datasets/cc_debug_subset_1000_docs_raw/2023-50/pl/00071.jsonl\n",
      "/raid/s3/opengptx/eurolingua/cc_debug_datasets/cc_debug_subset_1000_docs_raw/2023-50/es/00251.jsonl\n",
      "/raid/s3/opengptx/eurolingua/cc_debug_datasets/cc_debug_subset_1000_docs_raw/2023-50/fr/00099.jsonl\n",
      "/raid/s3/opengptx/eurolingua/cc_debug_datasets/cc_debug_subset_1000_docs_raw/2023-50/fr/00113.jsonl\n",
      "/raid/s3/opengptx/eurolingua/cc_debug_datasets/cc_debug_subset_1000_docs_raw/2023-50/de/00053.jsonl\n",
      "/raid/s3/opengptx/eurolingua/cc_debug_datasets/cc_debug_subset_1000_docs_raw/2023-50/lt/00043.jsonl\n",
      "/raid/s3/opengptx/eurolingua/cc_debug_datasets/cc_debug_subset_1000_docs_raw/2023-50/ca/00144.jsonl\n",
      "/raid/s3/opengptx/eurolingua/cc_debug_datasets/cc_debug_subset_1000_docs_raw/2023-50/ca/00147.jsonl\n",
      "/raid/s3/opengptx/eurolingua/cc_debug_datasets/cc_debug_subset_1000_docs_raw/2023-50/sk/00017.jsonl\n",
      "/raid/s3/opengptx/eurolingua/cc_debug_datasets/cc_debug_subset_1000_docs_raw/2023-50/is/00182.jsonl\n"
     ]
    }
   ],
   "source": [
    "from pathlib import Path\n",
    "import pandas as pd\n",
    "\n",
    "\n",
    "for file_path in Path(\"/raid/s3/opengptx/eurolingua/cc_debug_datasets/\").glob(\"cc_debug_subset_100*_docs_raw/**/*.jsonl\"):\n",
    "    print(file_path)\n",
    "    data = pd.read_json(file_path, lines=True)\n",
    "    data.rename(columns={\"id\": \"document_id\"}, inplace=True)\n",
    "    data.to_json(file_path, orient=\"records\", lines=True, force_ascii=False)\n"
   ]
  }
 ],
 "metadata": {
  "kernelspec": {
   "display_name": "ml_filter",
   "language": "python",
   "name": "python3"
  },
  "language_info": {
   "codemirror_mode": {
    "name": "ipython",
    "version": 3
   },
   "file_extension": ".py",
   "mimetype": "text/x-python",
   "name": "python",
   "nbconvert_exporter": "python",
   "pygments_lexer": "ipython3",
   "version": "3.10.12"
  }
 },
 "nbformat": 4,
 "nbformat_minor": 2
}
