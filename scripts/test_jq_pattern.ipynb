{
 "cells": [
  {
   "cell_type": "code",
   "execution_count": 1,
   "metadata": {},
   "outputs": [
    {
     "name": "stdout",
     "output_type": "stream",
     "text": [
      "Extracted language: en\n"
     ]
    }
   ],
   "source": [
    "import jq\n",
    "\n",
    "# Example JSON data\n",
    "data = {\n",
    "    \"metadata\": {\n",
    "        \"language\": \"en\"\n",
    "    }\n",
    "}\n",
    "\n",
    "# Define the jq query\n",
    "query = '.metadata.language'\n",
    "\n",
    "# Compile and execute the query\n",
    "compiled_query = jq.compile(query)\n",
    "result = compiled_query.input(data).first()\n",
    "\n",
    "print(f\"Extracted language: {result}\")"
   ]
  },
  {
   "cell_type": "code",
   "execution_count": 5,
   "metadata": {},
   "outputs": [
    {
     "name": "stdout",
     "output_type": "stream",
     "text": [
      "Common parent path: /a/b/c\n"
     ]
    }
   ],
   "source": [
    "from pathlib import Path\n",
    "from typing import List\n",
    "import os\n",
    "\n",
    "def common_parent(paths: List[str]) -> Path:\n",
    "    # Use os.path.commonpath to find the common prefix\n",
    "    common_path = os.path.commonpath(paths)\n",
    "    # Convert the result to a Path object\n",
    "    return Path(common_path)\n",
    "\n",
    "# Example usage\n",
    "paths = [Path(\"/a/b/c\"), Path(\"/a/b/c/d\")]\n",
    "result = common_parent(paths)\n",
    "print(f\"Common parent path: {result}\")"
   ]
  }
 ],
 "metadata": {
  "kernelspec": {
   "display_name": "ml_filter",
   "language": "python",
   "name": "python3"
  },
  "language_info": {
   "codemirror_mode": {
    "name": "ipython",
    "version": 3
   },
   "file_extension": ".py",
   "mimetype": "text/x-python",
   "name": "python",
   "nbconvert_exporter": "python",
   "pygments_lexer": "ipython3",
   "version": "3.10.12"
  }
 },
 "nbformat": 4,
 "nbformat_minor": 2
}
