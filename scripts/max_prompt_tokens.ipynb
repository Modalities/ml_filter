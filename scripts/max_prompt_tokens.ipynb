{
 "cells": [
  {
   "cell_type": "code",
   "execution_count": null,
   "metadata": {},
   "outputs": [
    {
     "name": "stdout",
     "output_type": "stream",
     "text": [
      "Max tokens: 8216\n"
     ]
    }
   ],
   "source": [
    "import pandas as pd\n",
    "import transformers\n",
    "\n",
    "model_name = \"meta-llama/Llama-3.2-3B-Instruct\"\n",
    "\n",
    "tokenizer = transformers.AutoTokenizer.from_pretrained(model_name)\n",
    "texts = pd.read_json(\"../data/test_data_ml_filter_511.jsonl\", lines=True)[\"text\"]\n",
    "\n",
    "max_tokens = 0\n",
    "for text in texts:\n",
    "    input_ids = tokenizer(text, truncation=False, padding=False)[\"input_ids\"]\n",
    "    max_tokens = max(max_tokens, len(input_ids))\n",
    "\n",
    "print(f\"Max tokens: {max_tokens}\")\n"
   ]
  },
  {
   "cell_type": "markdown",
   "metadata": {},
   "source": [
    "\n",
    "| model  | max context length |\n",
    "| -- | -- |\n",
    "| `meta-llama/Llama-3.3-70B-Instruct`| HF config: 131072 (Readme: up to 128k) |\n",
    "| `meta-llama/Llama-3.1-8B-Instruct` | HF config: 131072 (Readme: up to 128k) |\n",
    "| `meta-llama/Llama-3.2-3B-Instruct` | HF config: 131072 (Readme: up to 128k) |\n",
    "| `google/gemma-2-9b-it` | HF config: 8192 (Readme: 8k) |\n",
    "| `google/gemma-2-27b-it` | HF config: 8192 (Readme: 8k) |\n",
    "| `Qwen/Qwen2.5-7B-Instruct` | HF config: 32768 (Readme: up to 128k)|\n",
    "| `Qwen/Qwen2.5-14B-Instruct` | HF config: 32768 (Readme: up to 128k)|\n",
    "| `Qwen/Qwen2.5-32B-Instruct` | HF config: 32768 (Readme: up to 128k)|\n",
    "| `Qwen/Qwen2.5-72B-Instruct` | HF config: 32768 (Readme: up to 128k)|\n"
   ]
  }
 ],
 "metadata": {
  "kernelspec": {
   "display_name": "ml_filter",
   "language": "python",
   "name": "python3"
  },
  "language_info": {
   "codemirror_mode": {
    "name": "ipython",
    "version": 3
   },
   "file_extension": ".py",
   "mimetype": "text/x-python",
   "name": "python",
   "nbconvert_exporter": "python",
   "pygments_lexer": "ipython3",
   "version": "3.10.12"
  }
 },
 "nbformat": 4,
 "nbformat_minor": 2
}
