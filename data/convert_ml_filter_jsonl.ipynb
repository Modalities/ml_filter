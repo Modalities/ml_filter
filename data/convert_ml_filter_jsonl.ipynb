{
 "cells": [
  {
   "cell_type": "code",
   "execution_count": 7,
   "metadata": {},
   "outputs": [
    {
     "name": "stdout",
     "output_type": "stream",
     "text": [
      "Reading from  /raid/s3/opengptx/alexw/ml_filter/data/../data/test_data_ml_filter_511.jsonl\n",
      "511\n",
      "Wrote to  /raid/s3/opengptx/alexw/ml_filter/data/../data/test_data_ml_filter_511.jsonl\n",
      "Reading from  /raid/s3/opengptx/alexw/ml_filter/data/../data/dev_data_ml_filter_511_head_100.jsonl\n",
      "100\n",
      "Wrote to  /raid/s3/opengptx/alexw/ml_filter/data/../data/dev_data_ml_filter_511_head_100.jsonl\n",
      "Reading from  /raid/s3/opengptx/alexw/ml_filter/data/../data/dev_dump/a/dev_data_ml_filter_511_head_10.jsonl\n",
      "10\n",
      "Wrote to  /raid/s3/opengptx/alexw/ml_filter/data/../data/dev_dump/a/dev_data_ml_filter_511_head_10.jsonl\n",
      "Reading from  /raid/s3/opengptx/alexw/ml_filter/data/../data/dev_dump/b/dev_data_ml_filter_511_tail_10.jsonl\n",
      "10\n",
      "Wrote to  /raid/s3/opengptx/alexw/ml_filter/data/../data/dev_dump/b/dev_data_ml_filter_511_tail_10.jsonl\n",
      "Reading from  /raid/s3/opengptx/alexw/ml_filter/data/../data/human_annotations/511_test_dcocuments_educational_content.jsonl\n",
      "511\n",
      "Wrote to  /raid/s3/opengptx/alexw/ml_filter/data/../data/human_annotations/511_test_dcocuments_educational_content.jsonl\n"
     ]
    }
   ],
   "source": [
    "import json\n",
    "from pathlib import Path\n",
    "\n",
    "import pandas as pd\n",
    "\n",
    "\n",
    "data_files = [\"data/test_data_ml_filter_511.jsonl\", \"data/dev_data_ml_filter_511_head_100.jsonl\", \"data/dev_dump/a/dev_data_ml_filter_511_head_10.jsonl\", \"data/dev_dump/b/dev_data_ml_filter_511_tail_10.jsonl\", \"data/human_annotations/511_test_dcocuments_educational_content.jsonl\"]\n",
    "for data_file in data_files:\n",
    "    data_file = (Path(\"..\") / data_file).absolute()\n",
    "    print(\"Reading from \", data_file)\n",
    "    data = pd.read_json(data_file, lines=True, orient=\"records\")\n",
    "    print(len(data))\n",
    "    # create id by hasing the metadata\n",
    "    data.rename(columns={\"id\": \"document_id\"}, inplace=True)\n",
    "    data[\"scores\"] = data[\"score\"].apply(lambda x: [x])\n",
    "    data.drop(columns=[\"score\"], inplace=True)\n",
    "\n",
    "    data.to_json(data_file, orient=\"records\", lines=True, force_ascii=False)\n",
    "    print(\"Wrote to \", data_file)"
   ]
  }
 ],
 "metadata": {
  "kernelspec": {
   "display_name": "ml_filter",
   "language": "python",
   "name": "python3"
  },
  "language_info": {
   "codemirror_mode": {
    "name": "ipython",
    "version": 3
   },
   "file_extension": ".py",
   "mimetype": "text/x-python",
   "name": "python",
   "nbconvert_exporter": "python",
   "pygments_lexer": "ipython3",
   "version": "3.10.12"
  }
 },
 "nbformat": 4,
 "nbformat_minor": 2
}
