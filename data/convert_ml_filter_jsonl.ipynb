{
 "cells": [
  {
   "cell_type": "code",
   "execution_count": 1,
   "metadata": {},
   "outputs": [
    {
     "name": "stdout",
     "output_type": "stream",
     "text": [
      "511\n",
      "Wrote to  test_data_ml_filter_511.jsonl\n"
     ]
    }
   ],
   "source": [
    "import json\n",
    "\n",
    "import pandas as pd\n",
    "\n",
    "\n",
    "col_wise_data = \"test_data_ml_filter_511.json\"\n",
    "with open(col_wise_data, \"r\") as f:\n",
    "    data = pd.read_json(f)\n",
    "print(len(data))\n",
    "# create id by hasing the metadata\n",
    "data[\"id\"] = [str(x+1) for x in data.index.to_list()]\n",
    "out_file_name = \"test_data_ml_filter_511.jsonl\"\n",
    "data.to_json(out_file_name, orient=\"records\", lines=True, force_ascii=False)\n",
    "print(\"Wrote to \", out_file_name)"
   ]
  },
  {
   "cell_type": "code",
   "execution_count": 2,
   "metadata": {},
   "outputs": [
    {
     "data": {
      "text/plain": [
       "511"
      ]
     },
     "execution_count": 2,
     "metadata": {},
     "output_type": "execute_result"
    }
   ],
   "source": [
    "len(pd.read_json(out_file_name, lines=True))"
   ]
  },
  {
   "cell_type": "code",
   "execution_count": 3,
   "metadata": {},
   "outputs": [
    {
     "data": {
      "text/plain": [
       "511"
      ]
     },
     "execution_count": 3,
     "metadata": {},
     "output_type": "execute_result"
    }
   ],
   "source": [
    "len(pd.read_json(\"human_annotations/human_annotations.jsonl\", lines=True))"
   ]
  }
 ],
 "metadata": {
  "kernelspec": {
   "display_name": "ml_filter",
   "language": "python",
   "name": "python3"
  },
  "language_info": {
   "codemirror_mode": {
    "name": "ipython",
    "version": 3
   },
   "file_extension": ".py",
   "mimetype": "text/x-python",
   "name": "python",
   "nbconvert_exporter": "python",
   "pygments_lexer": "ipython3",
   "version": "3.10.12"
  }
 },
 "nbformat": 4,
 "nbformat_minor": 2
}
